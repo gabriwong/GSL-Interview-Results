{
 "cells": [
  {
   "cell_type": "code",
   "execution_count": 1,
   "metadata": {},
   "outputs": [],
   "source": [
    "import sys, os\n",
    "import numpy as np\n",
    "import pandas as pd\n",
    "import pandas.io.sql as psql\n",
    "import sqlalchemy as sql\n",
    "import sqlite3 as sqlite3\n",
    "\n",
    "def header(msg):\n",
    "    print('-'*50 + \"\\n\" + msg +\"\\n\")\n",
    "\n",
    "filename='GSL_Ops.xlsx'   \n",
    "conn = sqlite3.connect('customer.db')\n",
    "cur=conn.cursor()\n"
   ]
  },
  {
   "cell_type": "code",
   "execution_count": 2,
   "metadata": {},
   "outputs": [
    {
     "name": "stdout",
     "output_type": "stream",
     "text": [
      "SELECT '90th Percentile' as Percentile_Rank, min(revenue) as revenue FROM (Select CR.customer_id,printf('%.3f',CR.revenue) as revenue, PERCENT_RANK() Over(Order By CR.revenue asc) as rank From CustomerRevenue as CR Order by CR.revenue asc) WHERE rank >=.9 Group by 1;\n"
     ]
    },
    {
     "data": {
      "text/html": [
       "<div>\n",
       "<style scoped>\n",
       "    .dataframe tbody tr th:only-of-type {\n",
       "        vertical-align: middle;\n",
       "    }\n",
       "\n",
       "    .dataframe tbody tr th {\n",
       "        vertical-align: top;\n",
       "    }\n",
       "\n",
       "    .dataframe thead th {\n",
       "        text-align: right;\n",
       "    }\n",
       "</style>\n",
       "<table border=\"1\" class=\"dataframe\">\n",
       "  <thead>\n",
       "    <tr style=\"text-align: right;\">\n",
       "      <th></th>\n",
       "      <th>Percentile_Rank</th>\n",
       "      <th>revenue</th>\n",
       "    </tr>\n",
       "  </thead>\n",
       "  <tbody>\n",
       "    <tr>\n",
       "      <th>0</th>\n",
       "      <td>90th Percentile</td>\n",
       "      <td>6426.570</td>\n",
       "    </tr>\n",
       "  </tbody>\n",
       "</table>\n",
       "</div>"
      ],
      "text/plain": [
       "   Percentile_Rank   revenue\n",
       "0  90th Percentile  6426.570"
      ]
     },
     "execution_count": 2,
     "metadata": {},
     "output_type": "execute_result"
    }
   ],
   "source": [
    "#header('What’s the revenue of the 90th percentile rank customer_id from CustomerRevenue, ordered by revenue (where the highest-revenue customer_id is in the 99th percentile)?')\n",
    "sql_problem_1 = (\"SELECT '90th Percentile' as Percentile_Rank, min(revenue) as revenue \"\n",
    "                 \"FROM (Select CR.customer_id,printf('%.3f',CR.revenue) as revenue, PERCENT_RANK() Over(Order By CR.revenue asc) as rank \"\n",
    "                 \"From CustomerRevenue as CR \"\n",
    "                 \"Order by CR.revenue asc) \"\n",
    "                 \"WHERE rank >=.9 \"\n",
    "                 \"Group by 1;\").format(1, 2)\n",
    "\n",
    "print(sql_problem_1)\n",
    "pd.read_sql_query(sql_problem_1,conn)\n",
    "\n",
    "\n"
   ]
  },
  {
   "cell_type": "code",
   "execution_count": 3,
   "metadata": {
    "scrolled": true
   },
   "outputs": [
    {
     "ename": "SyntaxError",
     "evalue": "invalid syntax (<ipython-input-3-3e0e774fa7fc>, line 8)",
     "output_type": "error",
     "traceback": [
      "\u001b[0;36m  File \u001b[0;32m\"<ipython-input-3-3e0e774fa7fc>\"\u001b[0;36m, line \u001b[0;32m8\u001b[0m\n\u001b[0;31m    pd.read_sql_query(sql_problem_3,conn)\u001b[0m\n\u001b[0m     ^\u001b[0m\n\u001b[0;31mSyntaxError\u001b[0m\u001b[0;31m:\u001b[0m invalid syntax\n"
     ]
    }
   ],
   "source": [
    "header('What is the revenue per agency (note: Some customer IDs have an agency assigned, in addition to their CustomerSalesTeam. A customer ID has an agency sales team if it both (1) appears in CustomerAgency and (2) the customer ID’s country in CustomerAgency matches the customer ID’s country in CustomerSalesTeam)?')\n",
    "sql_problem_3 = (\"Select CA.agency_name , sum(printf('%.3f',CR.revenue)) as revenue \\\n",
    "                     FROM CustomerAgency CA \\\n",
    "                     INNER JOIN CustomerSalesTeam CST on CA.customer_id = CST.customer_id and CA.country=CST.country \\\n",
    "                LEFT JOIN CustomerRevenue CR on CA.customer_id = CR.customer_id \\\n",
    "                     GROUP BY 1;\")\n",
    "print(sql_problem_3.replace('  ','').replace\n",
    "pd.read_sql_query(sql_problem_3,conn)\n"
   ]
  },
  {
   "cell_type": "code",
   "execution_count": null,
   "metadata": {},
   "outputs": [],
   "source": [
    "header(\"Google is always running experiments to try to optimize our products. The CustomerExperiments table indicates which customer IDs are in the ALPHA experiment and which are in the BRAVO experiment. (Some customer IDs are enrolled in both.)\"\n",
    "       \"\\n When comparing total revenue from customer IDs in the ALPHA experiment to total revenue from customer IDs not in the experiment, which cohort has higher revenue?\"\n",
    "       \"\\n Is revenue from customers enrolled in the ALPHA experiment significantly different than revenue from customers not in the experiment? What about the BRAVO experiment? Explain the test that you used and include any database queries you would have used to generate the inputs required for the test.\")"
   ]
  },
  {
   "cell_type": "code",
   "execution_count": null,
   "metadata": {},
   "outputs": [],
   "source": [
    "print(\"Cohort with with higher\")\n",
    "sql_problem_4 = (\"Select CE.experiment_id , sum(printf('%.3f',CR.revenue)) as revenue \"\n",
    "                     \"FROM CustomerRevenue CR \"\n",
    "                     \"LEFT JOIN CustomerExperiment CE on CR.customer_id = CE.customer_id \"\n",
    "                     \"GROUP BY 1;\").format(1, 2)\n",
    "print(sql_problem_4)\n",
    "pd.read_sql_query(sql_problem_4,conn)"
   ]
  },
  {
   "cell_type": "code",
   "execution_count": null,
   "metadata": {},
   "outputs": [],
   "source": []
  },
  {
   "cell_type": "code",
   "execution_count": null,
   "metadata": {},
   "outputs": [],
   "source": [
    "print(\"Breakdown of metrics between ALPHA and Bravo\")\n",
    "sql_problem_4 = (\"SELECT QUARTILE, \"\n",
    "                     \"MIN(CASE WHEN experiment_id = 'ALPHA' then revenue else null end) as quartile_customer_rev_ALPHA, \"\n",
    "                     \"MIN(CASE WHEN experiment_id = 'BRAVO' then revenue else null end) as quartile_customer_rev_BRAVO, \"\n",
    "                     \"AVG(CASE WHEN experiment_id = 'ALPHA' then revenue else null end) as average_customer_rev_ALPHA, \"\n",
    "                     \"AVG(CASE WHEN experiment_id = 'BRAVO' then revenue else null end) as average_customer_rev_BRAVO, \"                     \n",
    "                     \"SUM(CASE WHEN experiment_id = 'ALPHA' then revenue else null end) as total_rev_ALPHA, \"\n",
    "                     \"SUM(CASE WHEN experiment_id = 'BRAVO' then revenue else null end) as total_rev_BRAVO, \"\n",
    "                     \"COUNT(CASE WHEN experiment_id = 'ALPHA' then customer_id else null end) as participants_ALPHA, \"\n",
    "                     \"COUNT(CASE WHEN experiment_id = 'BRAVO' then customer_id else null end) as participants_BRAVO \"\n",
    "                     \"FROM(SELECT experiment_id, customer_id, revenue, rev_rank, \"\n",
    "                      \"CASE WHEN rev_rank >=0 AND rev_rank<.25 then '1st Quartile'\"\n",
    "                           \"WHEN rev_rank >=.25 AND rev_rank<.5 then '2nd Quartile' \"\n",
    "                           \"WHEN rev_rank >=.5 AND rev_rank<.75 then '3rd Quartile' \"\n",
    "                           \"WHEN rev_rank >=.75 AND rev_rank<=1 then '4th Quartile' \"\n",
    "                           \"END as Quartile \"\n",
    "                          \"FROM(SELECT experiment_id, customer_id, revenue, percent_rank() Over(partition by experiment_id ORDER BY revenue asc) as rev_rank \"\n",
    "                            \"FROM(Select CE.experiment_id , CE.customer_id, \"\n",
    "                                 \"sum(printf('%.3f',CR.revenue)) as revenue \"\n",
    "                             \"FROM CustomerExperiment CE \"\n",
    "                             \"LEFT JOIN CustomerRevenue CR on CE.customer_id = CR.customer_id \"\n",
    "                             \"GROUP BY 1,2) \"\n",
    "                         \"GROUP BY 1,2,3) \"                 \n",
    "                     \"GROUP BY 1,2,3,4,5 ORDER BY 1,4,5,2) \"\n",
    "                 \"Group by 1;\").format(1, 2)\n",
    "print(sql_problem_4)\n",
    "pd.read_sql_query(sql_problem_4,conn)"
   ]
  },
  {
   "cell_type": "code",
   "execution_count": null,
   "metadata": {},
   "outputs": [],
   "source": []
  }
 ],
 "metadata": {
  "celltoolbar": "Edit Metadata",
  "kernelspec": {
   "display_name": "Python 3",
   "language": "python",
   "name": "python3"
  },
  "language_info": {
   "codemirror_mode": {
    "name": "ipython",
    "version": 3
   },
   "file_extension": ".py",
   "mimetype": "text/x-python",
   "name": "python",
   "nbconvert_exporter": "python",
   "pygments_lexer": "ipython3",
   "version": "3.7.3"
  }
 },
 "nbformat": 4,
 "nbformat_minor": 2
}
