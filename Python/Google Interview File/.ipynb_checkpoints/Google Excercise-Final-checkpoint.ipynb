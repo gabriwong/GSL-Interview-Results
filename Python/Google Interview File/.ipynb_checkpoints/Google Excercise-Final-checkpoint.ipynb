{
 "cells": [
  {
   "cell_type": "code",
   "execution_count": 72,
   "metadata": {},
   "outputs": [],
   "source": [
    "import sys, os\n",
    "import numpy as np\n",
    "import pandas as pd\n",
    "import pandas.io.sql as psql\n",
    "import sqlalchemy as sql\n",
    "\n",
    "def header(msg):\n",
    "    print('-'*50 + \"\\n\" + msg +\"\\n\")\n",
    "\n",
    "filename='GSL_Ops.xlsx'   \n",
    "conn = sqlite3.connect('customer.db')\n",
    "cur=conn.cursor()\n"
   ]
  },
  {
   "cell_type": "code",
   "execution_count": 52,
   "metadata": {},
   "outputs": [
    {
     "name": "stdout",
     "output_type": "stream",
     "text": [
      "--------------------------------------------------\n",
      "What’s the revenue of the 90th percentile rank customer_id from CustomerRevenue, ordered by revenue (where the highest-revenue customer_id is in the 99th percentile)?\n",
      "\n",
      "SELECT '90th Percentile' as Percentile_Rank, min(revenue) as revenue FROM             (Select CR.customer_id,printf('%.3f',CR.revenue) as revenue, PERCENT_RANK() Over(Order By CR.revenue asc) as rank             From CustomerRevenue as CR             Order by CR.revenue asc)             WHERE rank >=.9            Group by 1; \n"
     ]
    },
    {
     "data": {
      "text/html": [
       "<div>\n",
       "<style scoped>\n",
       "    .dataframe tbody tr th:only-of-type {\n",
       "        vertical-align: middle;\n",
       "    }\n",
       "\n",
       "    .dataframe tbody tr th {\n",
       "        vertical-align: top;\n",
       "    }\n",
       "\n",
       "    .dataframe thead th {\n",
       "        text-align: right;\n",
       "    }\n",
       "</style>\n",
       "<table border=\"1\" class=\"dataframe\">\n",
       "  <thead>\n",
       "    <tr style=\"text-align: right;\">\n",
       "      <th></th>\n",
       "      <th>Percentile_Rank</th>\n",
       "      <th>revenue</th>\n",
       "    </tr>\n",
       "  </thead>\n",
       "  <tbody>\n",
       "    <tr>\n",
       "      <th>0</th>\n",
       "      <td>90th Percentile</td>\n",
       "      <td>6426.570</td>\n",
       "    </tr>\n",
       "  </tbody>\n",
       "</table>\n",
       "</div>"
      ],
      "text/plain": [
       "   Percentile_Rank   revenue\n",
       "0  90th Percentile  6426.570"
      ]
     },
     "execution_count": 52,
     "metadata": {},
     "output_type": "execute_result"
    }
   ],
   "source": [
    "header('What’s the revenue of the 90th percentile rank customer_id from CustomerRevenue, ordered by revenue (where the highest-revenue customer_id is in the 99th percentile)?')\n",
    "sql_problem_1 = \"SELECT '90th Percentile' as Percentile_Rank, min(revenue) as revenue FROM \\\n",
    "            (Select CR.customer_id,printf('%.3f',CR.revenue) as revenue, PERCENT_RANK() Over(Order By CR.revenue asc) as rank \\\n",
    "            From CustomerRevenue as CR \\\n",
    "            Order by CR.revenue asc) \\\n",
    "            WHERE rank >=.9\\\n",
    "            Group by 1; \"\n",
    "\n",
    "print(sql_problem_1)\n",
    "pd.read_sql_query(sql_problem_1,conn)\n",
    "\n",
    "\n"
   ]
  },
  {
   "cell_type": "code",
   "execution_count": 55,
   "metadata": {},
   "outputs": [
    {
     "name": "stdout",
     "output_type": "stream",
     "text": [
      "--------------------------------------------------\n",
      "What is the revenue by sales team region, along with revenue from accounts that have no sales team (note: Some customer IDs are assigned to a sales team in CustomerSalesTeam. Use this relationship to find your answer)?\n",
      "\n",
      "SELECT coalesce(CST.region,'No Sales Team') as region, sum(printf('%.f',CR.revenue)) as revenue                     From CustomerRevenue CR                     Left Join CustomerSalesTeam CST on CR.customer_id = CST.customer_id                     Group by 1 ORDER BY 1; \n"
     ]
    },
    {
     "data": {
      "text/html": [
       "<div>\n",
       "<style scoped>\n",
       "    .dataframe tbody tr th:only-of-type {\n",
       "        vertical-align: middle;\n",
       "    }\n",
       "\n",
       "    .dataframe tbody tr th {\n",
       "        vertical-align: top;\n",
       "    }\n",
       "\n",
       "    .dataframe thead th {\n",
       "        text-align: right;\n",
       "    }\n",
       "</style>\n",
       "<table border=\"1\" class=\"dataframe\">\n",
       "  <thead>\n",
       "    <tr style=\"text-align: right;\">\n",
       "      <th></th>\n",
       "      <th>region</th>\n",
       "      <th>revenue</th>\n",
       "    </tr>\n",
       "  </thead>\n",
       "  <tbody>\n",
       "    <tr>\n",
       "      <th>0</th>\n",
       "      <td>APAC</td>\n",
       "      <td>46222</td>\n",
       "    </tr>\n",
       "    <tr>\n",
       "      <th>1</th>\n",
       "      <td>Americas</td>\n",
       "      <td>68449</td>\n",
       "    </tr>\n",
       "    <tr>\n",
       "      <th>2</th>\n",
       "      <td>EMEA</td>\n",
       "      <td>89070</td>\n",
       "    </tr>\n",
       "    <tr>\n",
       "      <th>3</th>\n",
       "      <td>No Sales Team</td>\n",
       "      <td>1976859</td>\n",
       "    </tr>\n",
       "  </tbody>\n",
       "</table>\n",
       "</div>"
      ],
      "text/plain": [
       "          region  revenue\n",
       "0           APAC    46222\n",
       "1       Americas    68449\n",
       "2           EMEA    89070\n",
       "3  No Sales Team  1976859"
      ]
     },
     "execution_count": 55,
     "metadata": {},
     "output_type": "execute_result"
    }
   ],
   "source": [
    "header('What is the revenue by sales team region, along with revenue from accounts that have no sales team (note: Some customer IDs are assigned to a sales team in CustomerSalesTeam. Use this relationship to find your answer)?')\n",
    "sql_problem_2 = \"SELECT coalesce(CST.region,'No Sales Team') as region, sum(printf('%.f',CR.revenue)) as revenue \\\n",
    "                    From CustomerRevenue CR \\\n",
    "                    Left Join CustomerSalesTeam CST on CR.customer_id = CST.customer_id \\\n",
    "                    Group by 1 ORDER BY 1; \"\n",
    "\n",
    "print(sql_problem_2)\n",
    "pd.read_sql_query(sql_problem_2,conn)\n"
   ]
  },
  {
   "cell_type": "code",
   "execution_count": 69,
   "metadata": {
    "scrolled": true
   },
   "outputs": [
    {
     "name": "stdout",
     "output_type": "stream",
     "text": [
      "--------------------------------------------------\n",
      "What is the revenue per agency (note: Some customer IDs have an agency assigned, in addition to their CustomerSalesTeam. A customer ID has an agency sales team if it both (1) appears in CustomerAgency and (2) the customer ID’s country in CustomerAgency matches the customer ID’s country in CustomerSalesTeam)?\n",
      "\n",
      "Select CA.agency_name , sum(CR.revenue) as revenue           FROM CustomerAgency CA           LEFT JOIN CustomerRevenue CR on CA.customer_id = CR.customer_id           INNER JOIN CustomerSalesTeam CST on CA.customer_id = CST.customer_id and CA.country=CST.country           GROUP BY 1;\n"
     ]
    },
    {
     "data": {
      "text/html": [
       "<div>\n",
       "<style scoped>\n",
       "    .dataframe tbody tr th:only-of-type {\n",
       "        vertical-align: middle;\n",
       "    }\n",
       "\n",
       "    .dataframe tbody tr th {\n",
       "        vertical-align: top;\n",
       "    }\n",
       "\n",
       "    .dataframe thead th {\n",
       "        text-align: right;\n",
       "    }\n",
       "</style>\n",
       "<table border=\"1\" class=\"dataframe\">\n",
       "  <thead>\n",
       "    <tr style=\"text-align: right;\">\n",
       "      <th></th>\n",
       "      <th>agency_name</th>\n",
       "      <th>revenue</th>\n",
       "    </tr>\n",
       "  </thead>\n",
       "  <tbody>\n",
       "    <tr>\n",
       "      <th>0</th>\n",
       "      <td>Dentsu</td>\n",
       "      <td>26404.907442</td>\n",
       "    </tr>\n",
       "    <tr>\n",
       "      <th>1</th>\n",
       "      <td>Independents</td>\n",
       "      <td>29202.142004</td>\n",
       "    </tr>\n",
       "    <tr>\n",
       "      <th>2</th>\n",
       "      <td>Omnicom</td>\n",
       "      <td>13360.475887</td>\n",
       "    </tr>\n",
       "    <tr>\n",
       "      <th>3</th>\n",
       "      <td>Publicis</td>\n",
       "      <td>10570.327216</td>\n",
       "    </tr>\n",
       "    <tr>\n",
       "      <th>4</th>\n",
       "      <td>WPP</td>\n",
       "      <td>22722.817609</td>\n",
       "    </tr>\n",
       "  </tbody>\n",
       "</table>\n",
       "</div>"
      ],
      "text/plain": [
       "    agency_name       revenue\n",
       "0        Dentsu  26404.907442\n",
       "1  Independents  29202.142004\n",
       "2       Omnicom  13360.475887\n",
       "3      Publicis  10570.327216\n",
       "4           WPP  22722.817609"
      ]
     },
     "execution_count": 69,
     "metadata": {},
     "output_type": "execute_result"
    }
   ],
   "source": [
    "header('What is the revenue per agency (note: Some customer IDs have an agency assigned, in addition to their CustomerSalesTeam. A customer ID has an agency sales team if it both (1) appears in CustomerAgency and (2) the customer ID’s country in CustomerAgency matches the customer ID’s country in CustomerSalesTeam)?')\n",
    "sql_problem_3 = (\"Select CA.agency_name , sum(CR.revenue) as revenue \\\n",
    "                     FROM CustomerAgency CA \\\n",
    "                     INNER JOIN CustomerSalesTeam CST on CA.customer_id = CST.customer_id and CA.country=CST.country \\\n",
    "                LEFT JOIN CustomerRevenue CR on CA.customer_id = CR.customer_id \\\n",
    "                     GROUP BY 1;\")\n",
    "print(sql_problem_3.replace('  ','').replace\n",
    "pd.read_sql_query(sql_problem_3,conn)\n"
   ]
  }
 ],
 "metadata": {
  "celltoolbar": "Edit Metadata",
  "kernelspec": {
   "display_name": "Python 3",
   "language": "python",
   "name": "python3"
  },
  "language_info": {
   "codemirror_mode": {
    "name": "ipython",
    "version": 3
   },
   "file_extension": ".py",
   "mimetype": "text/x-python",
   "name": "python",
   "nbconvert_exporter": "python",
   "pygments_lexer": "ipython3",
   "version": "3.7.3"
  }
 },
 "nbformat": 4,
 "nbformat_minor": 2
}
