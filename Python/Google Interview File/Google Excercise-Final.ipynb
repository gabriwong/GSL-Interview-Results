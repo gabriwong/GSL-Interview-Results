{
 "cells": [
  {
   "cell_type": "code",
   "execution_count": 17,
   "metadata": {},
   "outputs": [],
   "source": [
    "import sys, os\n",
    "import numpy as np\n",
    "import pandas as pd\n",
    "import pandas.io.sql as psql\n",
    "import sqlalchemy as sql\n",
    "import sqlite3 as sqlite3\n",
    "\n",
    "def header(msg):\n",
    "    print('-'*50 + \"\\n\" + msg +\"\\n\")\n",
    "\n",
    "filename='GSL_Ops.xlsx'   \n",
    "conn = sqlite3.connect('customer.db')\n",
    "cur=conn.cursor()\n"
   ]
  },
  {
   "cell_type": "code",
   "execution_count": 20,
   "metadata": {},
   "outputs": [
    {
     "name": "stdout",
     "output_type": "stream",
     "text": [
      "SELECT '90th Percentile' as Percentile_Rank, min(revenue) as revenue FROM (Select CR.customer_id,printf('%.3f',CR.revenue) as revenue, PERCENT_RANK() Over(Order By CR.revenue asc) as rank From CustomerRevenue as CR Order by CR.revenue asc) WHERE rank >=.9 Group by 1;\n"
     ]
    },
    {
     "data": {
      "text/html": [
       "<div>\n",
       "<style scoped>\n",
       "    .dataframe tbody tr th:only-of-type {\n",
       "        vertical-align: middle;\n",
       "    }\n",
       "\n",
       "    .dataframe tbody tr th {\n",
       "        vertical-align: top;\n",
       "    }\n",
       "\n",
       "    .dataframe thead th {\n",
       "        text-align: right;\n",
       "    }\n",
       "</style>\n",
       "<table border=\"1\" class=\"dataframe\">\n",
       "  <thead>\n",
       "    <tr style=\"text-align: right;\">\n",
       "      <th></th>\n",
       "      <th>Percentile_Rank</th>\n",
       "      <th>revenue</th>\n",
       "    </tr>\n",
       "  </thead>\n",
       "  <tbody>\n",
       "    <tr>\n",
       "      <th>0</th>\n",
       "      <td>90th Percentile</td>\n",
       "      <td>6426.570</td>\n",
       "    </tr>\n",
       "  </tbody>\n",
       "</table>\n",
       "</div>"
      ],
      "text/plain": [
       "   Percentile_Rank   revenue\n",
       "0  90th Percentile  6426.570"
      ]
     },
     "execution_count": 20,
     "metadata": {},
     "output_type": "execute_result"
    }
   ],
   "source": [
    "#header('What’s the revenue of the 90th percentile rank customer_id from CustomerRevenue, ordered by revenue (where the highest-revenue customer_id is in the 99th percentile)?')\n",
    "sql_problem_1 = (\"SELECT '90th Percentile' as Percentile_Rank, min(revenue) as revenue \"\n",
    "                 \"FROM (Select CR.customer_id,printf('%.3f',CR.revenue) as revenue, PERCENT_RANK() Over(Order By CR.revenue asc) as rank \"\n",
    "                 \"From CustomerRevenue as CR \"\n",
    "                 \"Order by CR.revenue asc) \"\n",
    "                 \"WHERE rank >=.9 \"\n",
    "                 \"Group by 1;\").format(1, 2)\n",
    "\n",
    "print(sql_problem_1)\n",
    "pd.read_sql_query(sql_problem_1,conn)\n",
    "\n",
    "\n"
   ]
  },
  {
   "cell_type": "code",
   "execution_count": 69,
   "metadata": {
    "scrolled": true
   },
   "outputs": [
    {
     "name": "stdout",
     "output_type": "stream",
     "text": [
      "--------------------------------------------------\n",
      "What is the revenue per agency (note: Some customer IDs have an agency assigned, in addition to their CustomerSalesTeam. A customer ID has an agency sales team if it both (1) appears in CustomerAgency and (2) the customer ID’s country in CustomerAgency matches the customer ID’s country in CustomerSalesTeam)?\n",
      "\n",
      "Select CA.agency_name , sum(CR.revenue) as revenue           FROM CustomerAgency CA           LEFT JOIN CustomerRevenue CR on CA.customer_id = CR.customer_id           INNER JOIN CustomerSalesTeam CST on CA.customer_id = CST.customer_id and CA.country=CST.country           GROUP BY 1;\n"
     ]
    },
    {
     "data": {
      "text/html": [
       "<div>\n",
       "<style scoped>\n",
       "    .dataframe tbody tr th:only-of-type {\n",
       "        vertical-align: middle;\n",
       "    }\n",
       "\n",
       "    .dataframe tbody tr th {\n",
       "        vertical-align: top;\n",
       "    }\n",
       "\n",
       "    .dataframe thead th {\n",
       "        text-align: right;\n",
       "    }\n",
       "</style>\n",
       "<table border=\"1\" class=\"dataframe\">\n",
       "  <thead>\n",
       "    <tr style=\"text-align: right;\">\n",
       "      <th></th>\n",
       "      <th>agency_name</th>\n",
       "      <th>revenue</th>\n",
       "    </tr>\n",
       "  </thead>\n",
       "  <tbody>\n",
       "    <tr>\n",
       "      <th>0</th>\n",
       "      <td>Dentsu</td>\n",
       "      <td>26404.907442</td>\n",
       "    </tr>\n",
       "    <tr>\n",
       "      <th>1</th>\n",
       "      <td>Independents</td>\n",
       "      <td>29202.142004</td>\n",
       "    </tr>\n",
       "    <tr>\n",
       "      <th>2</th>\n",
       "      <td>Omnicom</td>\n",
       "      <td>13360.475887</td>\n",
       "    </tr>\n",
       "    <tr>\n",
       "      <th>3</th>\n",
       "      <td>Publicis</td>\n",
       "      <td>10570.327216</td>\n",
       "    </tr>\n",
       "    <tr>\n",
       "      <th>4</th>\n",
       "      <td>WPP</td>\n",
       "      <td>22722.817609</td>\n",
       "    </tr>\n",
       "  </tbody>\n",
       "</table>\n",
       "</div>"
      ],
      "text/plain": [
       "    agency_name       revenue\n",
       "0        Dentsu  26404.907442\n",
       "1  Independents  29202.142004\n",
       "2       Omnicom  13360.475887\n",
       "3      Publicis  10570.327216\n",
       "4           WPP  22722.817609"
      ]
     },
     "execution_count": 69,
     "metadata": {},
     "output_type": "execute_result"
    }
   ],
   "source": [
    "header('What is the revenue per agency (note: Some customer IDs have an agency assigned, in addition to their CustomerSalesTeam. A customer ID has an agency sales team if it both (1) appears in CustomerAgency and (2) the customer ID’s country in CustomerAgency matches the customer ID’s country in CustomerSalesTeam)?')\n",
    "sql_problem_3 = (\"Select CA.agency_name , sum(printf('%.3f',CR.revenue)) as revenue \\\n",
    "                     FROM CustomerAgency CA \\\n",
    "                     INNER JOIN CustomerSalesTeam CST on CA.customer_id = CST.customer_id and CA.country=CST.country \\\n",
    "                LEFT JOIN CustomerRevenue CR on CA.customer_id = CR.customer_id \\\n",
    "                     GROUP BY 1;\")\n",
    "print(sql_problem_3.replace('  ','').replace\n",
    "pd.read_sql_query(sql_problem_3,conn)\n"
   ]
  },
  {
   "cell_type": "code",
   "execution_count": 22,
   "metadata": {},
   "outputs": [
    {
     "name": "stdout",
     "output_type": "stream",
     "text": [
      "--------------------------------------------------\n",
      "Google is always running experiments to try to optimize our products. The CustomerExperiments table indicates which customer IDs are in the ALPHA experiment and which are in the BRAVO experiment. (Some customer IDs are enrolled in both.)\n",
      " When comparing total revenue from customer IDs in the ALPHA experiment to total revenue from customer IDs not in the experiment, which cohort has higher revenue?\n",
      " Is revenue from customers enrolled in the ALPHA experiment significantly different than revenue from customers not in the experiment? What about the BRAVO experiment? Explain the test that you used and include any database queries you would have used to generate the inputs required for the test.\n",
      "\n"
     ]
    }
   ],
   "source": [
    "header(\"Google is always running experiments to try to optimize our products. The CustomerExperiments table indicates which customer IDs are in the ALPHA experiment and which are in the BRAVO experiment. (Some customer IDs are enrolled in both.)\"\n",
    "       \"\\n When comparing total revenue from customer IDs in the ALPHA experiment to total revenue from customer IDs not in the experiment, which cohort has higher revenue?\"\n",
    "       \"\\n Is revenue from customers enrolled in the ALPHA experiment significantly different than revenue from customers not in the experiment? What about the BRAVO experiment? Explain the test that you used and include any database queries you would have used to generate the inputs required for the test.\")"
   ]
  },
  {
   "cell_type": "code",
   "execution_count": 44,
   "metadata": {},
   "outputs": [
    {
     "name": "stdout",
     "output_type": "stream",
     "text": [
      "Cohort with with higher\n",
      "Select CE.experiment_id , sum(printf('%.3f',CR.revenue)) as revenue FROM CustomerRevenue CR LEFT JOIN CustomerExperiment CE on CR.customer_id = CE.customer_id GROUP BY 1;\n"
     ]
    },
    {
     "data": {
      "text/html": [
       "<div>\n",
       "<style scoped>\n",
       "    .dataframe tbody tr th:only-of-type {\n",
       "        vertical-align: middle;\n",
       "    }\n",
       "\n",
       "    .dataframe tbody tr th {\n",
       "        vertical-align: top;\n",
       "    }\n",
       "\n",
       "    .dataframe thead th {\n",
       "        text-align: right;\n",
       "    }\n",
       "</style>\n",
       "<table border=\"1\" class=\"dataframe\">\n",
       "  <thead>\n",
       "    <tr style=\"text-align: right;\">\n",
       "      <th></th>\n",
       "      <th>experiment_id</th>\n",
       "      <th>revenue</th>\n",
       "    </tr>\n",
       "  </thead>\n",
       "  <tbody>\n",
       "    <tr>\n",
       "      <th>0</th>\n",
       "      <td>None</td>\n",
       "      <td>457603.352</td>\n",
       "    </tr>\n",
       "    <tr>\n",
       "      <th>1</th>\n",
       "      <td>ALPHA</td>\n",
       "      <td>1191797.061</td>\n",
       "    </tr>\n",
       "    <tr>\n",
       "      <th>2</th>\n",
       "      <td>BRAVO</td>\n",
       "      <td>1170223.008</td>\n",
       "    </tr>\n",
       "  </tbody>\n",
       "</table>\n",
       "</div>"
      ],
      "text/plain": [
       "  experiment_id      revenue\n",
       "0          None   457603.352\n",
       "1         ALPHA  1191797.061\n",
       "2         BRAVO  1170223.008"
      ]
     },
     "execution_count": 44,
     "metadata": {},
     "output_type": "execute_result"
    }
   ],
   "source": [
    "print(\"Cohort with with higher\")\n",
    "sql_problem_4 = (\"Select CE.experiment_id , sum(printf('%.3f',CR.revenue)) as revenue \"\n",
    "                     \"FROM CustomerRevenue CR \"\n",
    "                     \"LEFT JOIN CustomerExperiment CE on CR.customer_id = CE.customer_id \"\n",
    "                     \"GROUP BY 1;\").format(1, 2)\n",
    "print(sql_problem_4)\n",
    "pd.read_sql_query(sql_problem_4,conn)"
   ]
  },
  {
   "cell_type": "code",
   "execution_count": null,
   "metadata": {},
   "outputs": [],
   "source": []
  },
  {
   "cell_type": "code",
   "execution_count": 41,
   "metadata": {},
   "outputs": [
    {
     "name": "stdout",
     "output_type": "stream",
     "text": [
      "--------------------------------------------------\n",
      "Cohort with with higher revenue=Alpha\n",
      "\n",
      "SELECT QUARTILE, MIN(CASE WHEN experiment_id = 'ALPHA' then revenue else null end) as quartile_customer_rev_ALPHA, MIN(CASE WHEN experiment_id = 'BRAVO' then revenue else null end) as quartile_customer_rev_BRAVO, AVG(CASE WHEN experiment_id = 'ALPHA' then revenue else null end) as average_customer_rev_ALPHA, AVG(CASE WHEN experiment_id = 'BRAVO' then revenue else null end) as average_customer_rev_BRAVO, SUM(CASE WHEN experiment_id = 'ALPHA' then revenue else null end) as total_rev_ALPHA, SUM(CASE WHEN experiment_id = 'BRAVO' then revenue else null end) as total_rev_BRAVO, COUNT(CASE WHEN experiment_id = 'ALPHA' then customer_id else null end) as participants_ALPHA, COUNT(CASE WHEN experiment_id = 'BRAVO' then customer_id else null end) as participants_BRAVO FROM(SELECT experiment_id, customer_id, revenue, rev_rank, CASE WHEN rev_rank >=0 AND rev_rank<.25 then '1st Quartile'WHEN rev_rank >=.25 AND rev_rank<.5 then '2nd Quartile' WHEN rev_rank >=.5 AND rev_rank<.75 then '3rd Quartile' WHEN rev_rank >=.75 AND rev_rank<=1 then '4th Quartile' END as Quartile FROM(SELECT experiment_id, customer_id, revenue, percent_rank() Over(partition by experiment_id ORDER BY revenue asc) as rev_rank FROM(Select CE.experiment_id , CE.customer_id, sum(printf('%.3f',CR.revenue)) as revenue FROM CustomerExperiment CE LEFT JOIN CustomerRevenue CR on CE.customer_id = CR.customer_id GROUP BY 1,2) GROUP BY 1,2,3) GROUP BY 1,2,3,4,5 ORDER BY 1,4,5,2) Group by 1;\n"
     ]
    },
    {
     "data": {
      "text/html": [
       "<div>\n",
       "<style scoped>\n",
       "    .dataframe tbody tr th:only-of-type {\n",
       "        vertical-align: middle;\n",
       "    }\n",
       "\n",
       "    .dataframe tbody tr th {\n",
       "        vertical-align: top;\n",
       "    }\n",
       "\n",
       "    .dataframe thead th {\n",
       "        text-align: right;\n",
       "    }\n",
       "</style>\n",
       "<table border=\"1\" class=\"dataframe\">\n",
       "  <thead>\n",
       "    <tr style=\"text-align: right;\">\n",
       "      <th></th>\n",
       "      <th>Quartile</th>\n",
       "      <th>quartile_customer_rev_ALPHA</th>\n",
       "      <th>quartile_customer_rev_BRAVO</th>\n",
       "      <th>average_customer_rev_ALPHA</th>\n",
       "      <th>average_customer_rev_BRAVO</th>\n",
       "      <th>total_rev_ALPHA</th>\n",
       "      <th>total_rev_BRAVO</th>\n",
       "      <th>participants_ALPHA</th>\n",
       "      <th>participants_BRAVO</th>\n",
       "    </tr>\n",
       "  </thead>\n",
       "  <tbody>\n",
       "    <tr>\n",
       "      <th>0</th>\n",
       "      <td>1st Quartile</td>\n",
       "      <td>100.358</td>\n",
       "      <td>3394.886</td>\n",
       "      <td>201.973092</td>\n",
       "      <td>3884.283959</td>\n",
       "      <td>26458.475</td>\n",
       "      <td>190329.914</td>\n",
       "      <td>131</td>\n",
       "      <td>49</td>\n",
       "    </tr>\n",
       "    <tr>\n",
       "      <th>1</th>\n",
       "      <td>2nd Quartile</td>\n",
       "      <td>355.050</td>\n",
       "      <td>4426.047</td>\n",
       "      <td>641.990308</td>\n",
       "      <td>5034.161347</td>\n",
       "      <td>83458.740</td>\n",
       "      <td>246673.906</td>\n",
       "      <td>130</td>\n",
       "      <td>49</td>\n",
       "    </tr>\n",
       "    <tr>\n",
       "      <th>2</th>\n",
       "      <td>3rd Quartile</td>\n",
       "      <td>1038.897</td>\n",
       "      <td>5699.767</td>\n",
       "      <td>2030.832200</td>\n",
       "      <td>6381.875878</td>\n",
       "      <td>264008.186</td>\n",
       "      <td>312711.918</td>\n",
       "      <td>130</td>\n",
       "      <td>49</td>\n",
       "    </tr>\n",
       "    <tr>\n",
       "      <th>3</th>\n",
       "      <td>4th Quartile</td>\n",
       "      <td>3450.168</td>\n",
       "      <td>7023.366</td>\n",
       "      <td>6243.295115</td>\n",
       "      <td>8410.145400</td>\n",
       "      <td>817871.660</td>\n",
       "      <td>420507.270</td>\n",
       "      <td>131</td>\n",
       "      <td>50</td>\n",
       "    </tr>\n",
       "  </tbody>\n",
       "</table>\n",
       "</div>"
      ],
      "text/plain": [
       "       Quartile  quartile_customer_rev_ALPHA  quartile_customer_rev_BRAVO  \\\n",
       "0  1st Quartile                      100.358                     3394.886   \n",
       "1  2nd Quartile                      355.050                     4426.047   \n",
       "2  3rd Quartile                     1038.897                     5699.767   \n",
       "3  4th Quartile                     3450.168                     7023.366   \n",
       "\n",
       "   average_customer_rev_ALPHA  average_customer_rev_BRAVO  total_rev_ALPHA  \\\n",
       "0                  201.973092                 3884.283959        26458.475   \n",
       "1                  641.990308                 5034.161347        83458.740   \n",
       "2                 2030.832200                 6381.875878       264008.186   \n",
       "3                 6243.295115                 8410.145400       817871.660   \n",
       "\n",
       "   total_rev_BRAVO  participants_ALPHA  participants_BRAVO  \n",
       "0       190329.914                 131                  49  \n",
       "1       246673.906                 130                  49  \n",
       "2       312711.918                 130                  49  \n",
       "3       420507.270                 131                  50  "
      ]
     },
     "execution_count": 41,
     "metadata": {},
     "output_type": "execute_result"
    }
   ],
   "source": [
    "print(\"Breakdown of metrics between ALPHA and Bravo\")\n",
    "sql_problem_4 = (\"SELECT QUARTILE, \"\n",
    "                     \"MIN(CASE WHEN experiment_id = 'ALPHA' then revenue else null end) as quartile_customer_rev_ALPHA, \"\n",
    "                     \"MIN(CASE WHEN experiment_id = 'BRAVO' then revenue else null end) as quartile_customer_rev_BRAVO, \"\n",
    "                     \"AVG(CASE WHEN experiment_id = 'ALPHA' then revenue else null end) as average_customer_rev_ALPHA, \"\n",
    "                     \"AVG(CASE WHEN experiment_id = 'BRAVO' then revenue else null end) as average_customer_rev_BRAVO, \"                     \n",
    "                     \"SUM(CASE WHEN experiment_id = 'ALPHA' then revenue else null end) as total_rev_ALPHA, \"\n",
    "                     \"SUM(CASE WHEN experiment_id = 'BRAVO' then revenue else null end) as total_rev_BRAVO, \"\n",
    "                     \"COUNT(CASE WHEN experiment_id = 'ALPHA' then customer_id else null end) as participants_ALPHA, \"\n",
    "                     \"COUNT(CASE WHEN experiment_id = 'BRAVO' then customer_id else null end) as participants_BRAVO \"\n",
    "                     \"FROM(SELECT experiment_id, customer_id, revenue, rev_rank, \"\n",
    "                      \"CASE WHEN rev_rank >=0 AND rev_rank<.25 then '1st Quartile'\"\n",
    "                           \"WHEN rev_rank >=.25 AND rev_rank<.5 then '2nd Quartile' \"\n",
    "                           \"WHEN rev_rank >=.5 AND rev_rank<.75 then '3rd Quartile' \"\n",
    "                           \"WHEN rev_rank >=.75 AND rev_rank<=1 then '4th Quartile' \"\n",
    "                           \"END as Quartile \"\n",
    "                          \"FROM(SELECT experiment_id, customer_id, revenue, percent_rank() Over(partition by experiment_id ORDER BY revenue asc) as rev_rank \"\n",
    "                            \"FROM(Select CE.experiment_id , CE.customer_id, \"\n",
    "                                 \"sum(printf('%.3f',CR.revenue)) as revenue \"\n",
    "                             \"FROM CustomerExperiment CE \"\n",
    "                             \"LEFT JOIN CustomerRevenue CR on CE.customer_id = CR.customer_id \"\n",
    "                             \"GROUP BY 1,2) \"\n",
    "                         \"GROUP BY 1,2,3) \"                 \n",
    "                     \"GROUP BY 1,2,3,4,5 ORDER BY 1,4,5,2) \"\n",
    "                 \"Group by 1;\").format(1, 2)\n",
    "print(sql_problem_4)\n",
    "pd.read_sql_query(sql_problem_4,conn)"
   ]
  },
  {
   "cell_type": "code",
   "execution_count": null,
   "metadata": {},
   "outputs": [],
   "source": []
  }
 ],
 "metadata": {
  "celltoolbar": "Edit Metadata",
  "kernelspec": {
   "display_name": "Python 3",
   "language": "python",
   "name": "python3"
  },
  "language_info": {
   "codemirror_mode": {
    "name": "ipython",
    "version": 3
   },
   "file_extension": ".py",
   "mimetype": "text/x-python",
   "name": "python",
   "nbconvert_exporter": "python",
   "pygments_lexer": "ipython3",
   "version": "3.7.3"
  }
 },
 "nbformat": 4,
 "nbformat_minor": 2
}
